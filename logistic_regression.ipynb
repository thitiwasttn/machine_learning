{
  "nbformat": 4,
  "nbformat_minor": 0,
  "metadata": {
    "colab": {
      "name": "logistic regression.ipynb",
      "provenance": [],
      "authorship_tag": "ABX9TyPmdGE9bB59MVju/hwbo/LG",
      "include_colab_link": true
    },
    "kernelspec": {
      "name": "python3",
      "display_name": "Python 3"
    },
    "language_info": {
      "name": "python"
    }
  },
  "cells": [
    {
      "cell_type": "markdown",
      "metadata": {
        "id": "view-in-github",
        "colab_type": "text"
      },
      "source": [
        "<a href=\"https://colab.research.google.com/github/thitiwasttn/machine_learning/blob/main/logistic_regression.ipynb\" target=\"_parent\"><img src=\"https://colab.research.google.com/assets/colab-badge.svg\" alt=\"Open In Colab\"/></a>"
      ]
    },
    {
      "cell_type": "code",
      "metadata": {
        "id": "G5eGYUFMGahm"
      },
      "source": [
        "import numpy as np\n",
        "import matplotlib.pyplot as plt"
      ],
      "execution_count": 1,
      "outputs": []
    },
    {
      "cell_type": "markdown",
      "metadata": {
        "id": "o0ghidIGHHLz"
      },
      "source": [
        "x = ราคา\n",
        "y = ซื้อ / ไม่ซื้อ"
      ]
    },
    {
      "cell_type": "code",
      "metadata": {
        "id": "fI1eMlrVHC68"
      },
      "source": [
        "x = np.array([120,150,170,200,200,200,204,204,205,215,250,270,300,305])\n",
        "y = np.array([1,1,1,1,1,0,0,1,1,0,0,0,0,0])"
      ],
      "execution_count": 2,
      "outputs": []
    },
    {
      "cell_type": "code",
      "metadata": {
        "colab": {
          "base_uri": "https://localhost:8080/",
          "height": 295
        },
        "id": "RKwIPPNDHOYG",
        "outputId": "d008fd5a-4afa-4257-a4dd-c267fb8ae566"
      },
      "source": [
        "plt.scatter(x,y)\n",
        "plt.title('pricing')\n",
        "plt.xlabel('price')\n",
        "plt.ylabel('result (1: Yes, 0: No)')\n",
        "plt.show()"
      ],
      "execution_count": 4,
      "outputs": [
        {
          "output_type": "display_data",
          "data": {
            "image/png": "[encoded data removed]",
            "text/plain": [
              "<Figure size 432x288 with 1 Axes>"
            ]
          },
          "metadata": {
            "needs_background": "light"
          }
        }
      ]
    },
    {
      "cell_type": "markdown",
      "metadata": {
        "id": "_F6cQIEyHnnD"
      },
      "source": [
        "สร้าง logistice regression model เพื่อช่วยในการประมาณราคาที่เหมาะสม ที่สามารถขายได้"
      ]
    },
    {
      "cell_type": "code",
      "metadata": {
        "id": "EaURUftMHwth"
      },
      "source": [
        "from sklearn.linear_model import LogisticRegression\n",
        "model = LogisticRegression(solver='lbfgs')"
      ],
      "execution_count": 5,
      "outputs": []
    },
    {
      "cell_type": "markdown",
      "metadata": {
        "id": "YLms9UB1IC_v"
      },
      "source": [
        "set x to metric\n"
      ]
    },
    {
      "cell_type": "code",
      "metadata": {
        "colab": {
          "base_uri": "https://localhost:8080/"
        },
        "id": "Itx1HYfMIELK",
        "outputId": "8596d139-b6c2-4f6e-e525-a9686621da15"
      },
      "source": [
        "X = x.reshape(-1,1)\n",
        "X[:5]"
      ],
      "execution_count": 15,
      "outputs": [
        {
          "output_type": "execute_result",
          "data": {
            "text/plain": [
              "array([[120],\n",
              "       [150],\n",
              "       [170],\n",
              "       [200],\n",
              "       [200]])"
            ]
          },
          "metadata": {},
          "execution_count": 15
        }
      ]
    },
    {
      "cell_type": "code",
      "metadata": {
        "colab": {
          "base_uri": "https://localhost:8080/"
        },
        "id": "UHcKvkAoII5U",
        "outputId": "a147fb43-101e-40ae-d46f-a1c4ca7894a4"
      },
      "source": [
        "model.fit(X,y)"
      ],
      "execution_count": 7,
      "outputs": [
        {
          "output_type": "execute_result",
          "data": {
            "text/plain": [
              "LogisticRegression()"
            ]
          },
          "metadata": {},
          "execution_count": 7
        }
      ]
    },
    {
      "cell_type": "markdown",
      "metadata": {
        "id": "7CZzb31dINe4"
      },
      "source": [
        "predict"
      ]
    },
    {
      "cell_type": "code",
      "metadata": {
        "colab": {
          "base_uri": "https://localhost:8080/"
        },
        "id": "t7Cx2uTqIO6e",
        "outputId": "ec098a63-5ae4-4adf-8c23-47444fb0addf"
      },
      "source": [
        "X_input = [[198],[150],[220],[250],[200],[205]]\n",
        "y_predict = model.predict(X_input)\n",
        "y_predict"
      ],
      "execution_count": 11,
      "outputs": [
        {
          "output_type": "execute_result",
          "data": {
            "text/plain": [
              "array([1, 1, 0, 0, 1, 1])"
            ]
          },
          "metadata": {},
          "execution_count": 11
        }
      ]
    },
    {
      "cell_type": "code",
      "metadata": {
        "colab": {
          "base_uri": "https://localhost:8080/"
        },
        "id": "Ow0h06kWImBs",
        "outputId": "c5ed9e84-d5c9-42dd-a788-b74c486bf2a6"
      },
      "source": [
        "print('Price | Pred')\n",
        "print(10*'-')\n",
        "for i, val in enumerate(y_predict):\n",
        "  print('{:5.1f} | {}'.format(X_input[i][0],val))"
      ],
      "execution_count": 14,
      "outputs": [
        {
          "output_type": "stream",
          "name": "stdout",
          "text": [
            "Price | Pred\n",
            "----------\n",
            "198.0 | 1\n",
            "150.0 | 1\n",
            "220.0 | 0\n",
            "250.0 | 0\n",
            "200.0 | 1\n",
            "205.0 | 1\n"
          ]
        }
      ]
    },
    {
      "cell_type": "markdown",
      "metadata": {
        "id": "63Bt09d1ML-5"
      },
      "source": [
        "predict แบบ ความน่าจะเป็น"
      ]
    },
    {
      "cell_type": "code",
      "metadata": {
        "colab": {
          "base_uri": "https://localhost:8080/"
        },
        "id": "aB2LKp63MN-t",
        "outputId": "00259261-f028-4190-bb49-2964b934c48f"
      },
      "source": [
        "y_predict_prop = model.predict_proba(X_input)\n",
        "y_predict_prop"
      ],
      "execution_count": 16,
      "outputs": [
        {
          "output_type": "execute_result",
          "data": {
            "text/plain": [
              "array([[1.94169940e-01, 8.05830060e-01],\n",
              "       [2.30119582e-05, 9.99976988e-01],\n",
              "       [9.43712415e-01, 5.62875846e-02],\n",
              "       [9.99816765e-01, 1.83235243e-04],\n",
              "       [2.61640671e-01, 7.38359329e-01],\n",
              "       [4.81693931e-01, 5.18306069e-01]])"
            ]
          },
          "metadata": {},
          "execution_count": 16
        }
      ]
    },
    {
      "cell_type": "markdown",
      "metadata": {
        "id": "RL7U0fx3MaEh"
      },
      "source": [
        "ค่าตัวแรก ความน่าจะเป็นของ output ผลลัพ 0\n",
        "ค่าตัวสอง ความน่าจะเป็นของ output ผลลัพ 1\n",
        "รวมทั้งสองค่าจะได้ค่าเท่ากับ 1"
      ]
    },
    {
      "cell_type": "code",
      "metadata": {
        "id": "iFEFiK46MyLh"
      },
      "source": [
        ""
      ],
      "execution_count": null,
      "outputs": []
    }
  ]
}