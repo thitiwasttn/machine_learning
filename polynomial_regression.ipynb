{
  "nbformat": 4,
  "nbformat_minor": 0,
  "metadata": {
    "colab": {
      "name": "polynomial regression.ipynb",
      "provenance": [],
      "authorship_tag": "ABX9TyP6sIvTWxZmKknGOEui1xoA",
      "include_colab_link": true
    },
    "kernelspec": {
      "name": "python3",
      "display_name": "Python 3"
    },
    "language_info": {
      "name": "python"
    }
  },
  "cells": [
    {
      "cell_type": "markdown",
      "metadata": {
        "id": "view-in-github",
        "colab_type": "text"
      },
      "source": [
        "<a href=\"https://colab.research.google.com/github/thitiwasttn/machine_learning/blob/main/polynomial_regression.ipynb\" target=\"_parent\"><img src=\"https://colab.research.google.com/assets/colab-badge.svg\" alt=\"Open In Colab\"/></a>"
      ]
    },
    {
      "cell_type": "code",
      "metadata": {
        "id": "tY7y6VG0GFTg"
      },
      "source": [
        "import numpy as np\n",
        "import matplotlib.pyplot as plt\n",
        "import pandas as pd\n",
        "import seaborn as sns\n",
        "from sklearn.linear_model import LinearRegression"
      ],
      "execution_count": 315,
      "outputs": []
    },
    {
      "cell_type": "code",
      "metadata": {
        "colab": {
          "base_uri": "https://localhost:8080/"
        },
        "id": "_jLLc_YdGSmO",
        "outputId": "ba74e39d-720f-4eed-c1b5-8c7330ac3071"
      },
      "source": [
        "df = pd.read_csv('/content/gdp4c.csv', index_col=0)\n",
        "print(df.shape)\n",
        "print(df.head())"
      ],
      "execution_count": 316,
      "outputs": [
        {
          "output_type": "stream",
          "name": "stdout",
          "text": [
            "(58, 4)\n",
            "              SGP           THA           USA  VNM\n",
            "1960  704462302.4  2.760747e+09  5.433000e+11  NaN\n",
            "1961  764308114.5  3.034044e+09  5.633000e+11  NaN\n",
            "1962  825885273.7  3.308913e+09  6.051000e+11  NaN\n",
            "1963  917222004.4  3.540403e+09  6.386000e+11  NaN\n",
            "1964  893734483.2  3.889130e+09  6.858000e+11  NaN\n"
          ]
        }
      ]
    },
    {
      "cell_type": "markdown",
      "metadata": {
        "id": "-hNiEqJ1Gs0l"
      },
      "source": [
        "check mission data"
      ]
    },
    {
      "cell_type": "code",
      "metadata": {
        "colab": {
          "base_uri": "https://localhost:8080/"
        },
        "id": "qQ2XiTBcGuL5",
        "outputId": "b9631678-f2a4-4690-cbd6-697fc7658b3b"
      },
      "source": [
        "df.isnull().sum()\n",
        "# got 25 rows"
      ],
      "execution_count": 317,
      "outputs": [
        {
          "output_type": "execute_result",
          "data": {
            "text/plain": [
              "SGP     0\n",
              "THA     0\n",
              "USA     0\n",
              "VNM    25\n",
              "dtype: int64"
            ]
          },
          "metadata": {},
          "execution_count": 317
        }
      ]
    },
    {
      "cell_type": "code",
      "metadata": {
        "colab": {
          "base_uri": "https://localhost:8080/",
          "height": 418
        },
        "id": "ls8-hDBjG0RS",
        "outputId": "7ca9b503-9774-4072-bc85-bda1801844c8"
      },
      "source": [
        "sns.set_style('darkgrid')\n",
        "sns.scatterplot(df.index, df['THA'], label='THA')\n",
        "sns.scatterplot(df.index, df['SGP'], label='SGP')\n",
        "sns.scatterplot(df.index, df['VNM'], label='VNM')\n",
        "plt.ylabel('GDP')"
      ],
      "execution_count": 318,
      "outputs": [
        {
          "output_type": "stream",
          "name": "stderr",
          "text": [
            "/usr/local/lib/python3.7/dist-packages/seaborn/_decorators.py:43: FutureWarning: Pass the following variables as keyword args: x, y. From version 0.12, the only valid positional argument will be `data`, and passing other arguments without an explicit keyword will result in an error or misinterpretation.\n",
            "  FutureWarning\n",
            "/usr/local/lib/python3.7/dist-packages/seaborn/_decorators.py:43: FutureWarning: Pass the following variables as keyword args: x, y. From version 0.12, the only valid positional argument will be `data`, and passing other arguments without an explicit keyword will result in an error or misinterpretation.\n",
            "  FutureWarning\n",
            "/usr/local/lib/python3.7/dist-packages/seaborn/_decorators.py:43: FutureWarning: Pass the following variables as keyword args: x, y. From version 0.12, the only valid positional argument will be `data`, and passing other arguments without an explicit keyword will result in an error or misinterpretation.\n",
            "  FutureWarning\n"
          ]
        },
        {
          "output_type": "execute_result",
          "data": {
            "text/plain": [
              "Text(0, 0.5, 'GDP')"
            ]
          },
          "metadata": {},
          "execution_count": 318
        },
        {
          "output_type": "display_data",
          "data": {
            "image/png": "[encoded data removed]",
            "text/plain": [
              "<Figure size 432x288 with 1 Axes>"
            ]
          },
          "metadata": {}
        }
      ]
    },
    {
      "cell_type": "code",
      "metadata": {
        "colab": {
          "base_uri": "https://localhost:8080/"
        },
        "id": "3xUBmKxsIbj5",
        "outputId": "3632227b-0cc6-450a-ae78-312cef5e62b3"
      },
      "source": [
        "X = df.index.values.reshape(-1,1)\n",
        "y = df['THA']\n",
        "print(X[:5])\n",
        "print(y[:5])"
      ],
      "execution_count": 319,
      "outputs": [
        {
          "output_type": "stream",
          "name": "stdout",
          "text": [
            "[[1960]\n",
            " [1961]\n",
            " [1962]\n",
            " [1963]\n",
            " [1964]]\n",
            "1960    2.760747e+09\n",
            "1961    3.034044e+09\n",
            "1962    3.308913e+09\n",
            "1963    3.540403e+09\n",
            "1964    3.889130e+09\n",
            "Name: THA, dtype: float64\n"
          ]
        }
      ]
    },
    {
      "cell_type": "code",
      "metadata": {
        "id": "W-Bn3eJWJRLC"
      },
      "source": [
        "from sklearn.model_selection import train_test_split\n",
        "X_train, X_test, y_train, y_test = train_test_split(X, y, test_size = 0.2, random_state = 0)"
      ],
      "execution_count": 320,
      "outputs": []
    },
    {
      "cell_type": "markdown",
      "metadata": {
        "id": "qKzvL4c6IF4r"
      },
      "source": [
        "ลองแบบ Liner regression"
      ]
    },
    {
      "cell_type": "code",
      "metadata": {
        "colab": {
          "base_uri": "https://localhost:8080/"
        },
        "id": "LoRCOO1GIGrn",
        "outputId": "9ed6ea0f-386b-48d9-b4f4-611847ab7701"
      },
      "source": [
        "model = LinearRegression()\n",
        "model.fit(X, y)"
      ],
      "execution_count": 321,
      "outputs": [
        {
          "output_type": "execute_result",
          "data": {
            "text/plain": [
              "LinearRegression()"
            ]
          },
          "metadata": {},
          "execution_count": 321
        }
      ]
    },
    {
      "cell_type": "code",
      "metadata": {
        "colab": {
          "base_uri": "https://localhost:8080/",
          "height": 276
        },
        "id": "HAZDSZyCKJW4",
        "outputId": "13c80070-93b9-4d3e-f9a5-a914688437df"
      },
      "source": [
        "y_predic = model.predict(X)\n",
        "plt.scatter(X, y, color='b')\n",
        "plt.plot(X, y_predic, linewidth='2', color='r')\n",
        "plt.show()"
      ],
      "execution_count": 322,
      "outputs": [
        {
          "output_type": "display_data",
          "data": {
            "image/png": "[encoded data removed]",
            "text/plain": [
              "<Figure size 432x288 with 1 Axes>"
            ]
          },
          "metadata": {}
        }
      ]
    },
    {
      "cell_type": "code",
      "metadata": {
        "colab": {
          "base_uri": "https://localhost:8080/"
        },
        "id": "0nLneui9LTQj",
        "outputId": "ba171e61-e943-4ff4-ff49-8d3bc19ce242"
      },
      "source": [
        "model.score(X, y)"
      ],
      "execution_count": 323,
      "outputs": [
        {
          "output_type": "execute_result",
          "data": {
            "text/plain": [
              "0.8129995489142148"
            ]
          },
          "metadata": {},
          "execution_count": 323
        }
      ]
    },
    {
      "cell_type": "markdown",
      "metadata": {
        "id": "LYgyqYEdMOHs"
      },
      "source": [
        "คลาดเคลื่อนเยอะ"
      ]
    },
    {
      "cell_type": "markdown",
      "metadata": {
        "id": "YtwB6X0LLjJo"
      },
      "source": [
        "ทายว่าปี 2020 จะมี GDP เท่าไหร่"
      ]
    },
    {
      "cell_type": "code",
      "metadata": {
        "colab": {
          "base_uri": "https://localhost:8080/"
        },
        "id": "sriGo0lzLib-",
        "outputId": "77ca9588-13d9-4403-e8e4-d64388b1cf91"
      },
      "source": [
        "y_predic = model.predict([[2020]])\n",
        "print('{:,.6E}'.format(y_predic[0]))"
      ],
      "execution_count": 324,
      "outputs": [
        {
          "output_type": "stream",
          "name": "stdout",
          "text": [
            "3.504274E+11\n"
          ]
        }
      ]
    },
    {
      "cell_type": "markdown",
      "metadata": {
        "id": "4SmLZ7rwMBUm"
      },
      "source": [
        "2015"
      ]
    },
    {
      "cell_type": "code",
      "metadata": {
        "colab": {
          "base_uri": "https://localhost:8080/"
        },
        "id": "uREeIHqxMChN",
        "outputId": "ecc1b910-b231-4339-c8c8-fb144887d729"
      },
      "source": [
        "y_predic = model.predict([[2015]])\n",
        "print('{:,.6E}'.format(y_predic[0]))\n",
        "print('in dataset')\n",
        "print((df[df.index == 2015].THA))"
      ],
      "execution_count": 325,
      "outputs": [
        {
          "output_type": "stream",
          "name": "stdout",
          "text": [
            "3.142871E+11\n",
            "in dataset\n",
            "2015    4.013990e+11\n",
            "Name: THA, dtype: float64\n"
          ]
        }
      ]
    },
    {
      "cell_type": "markdown",
      "metadata": {
        "id": "o59kBEG1OI4O"
      },
      "source": [
        "predict ด้วย polynomial regression"
      ]
    },
    {
      "cell_type": "code",
      "metadata": {
        "id": "Jlzx8ynJOMhn"
      },
      "source": [
        "from sklearn.preprocessing import PolynomialFeatures"
      ],
      "execution_count": 326,
      "outputs": []
    },
    {
      "cell_type": "markdown",
      "metadata": {
        "id": "TaB7P1qWP7ri"
      },
      "source": [
        "กำหนดรายละเอียดของ Polynomial ว่าจะเอา Degree ยกกำลังสูงสุดเท่าใด ในตอนนี้เริ่มต้น ทดลองยกกำลังสองก่อน จากนั้นทำการ fit transform เปลี่ยนค่า x ให้เป็น poly แล้วทำการสร้าง model ด้วย fit (คร่าวๆ คือ degree=2 หักโค้งได้ 1 ครั้ง degree=3 หักโค้งได้ 2 ครั้ง degree=4 หักโค้งได้ 3 ... ลองเสร็จแล้วทดลอง degree=3 หรือ degree=4 ต่อไป)"
      ]
    },
    {
      "cell_type": "code",
      "metadata": {
        "colab": {
          "base_uri": "https://localhost:8080/"
        },
        "id": "4A-acLzxOscB",
        "outputId": "0b261070-e329-41be-ce84-b86cffbb640d"
      },
      "source": [
        "\n",
        "poly_features = PolynomialFeatures(degree=3)\n",
        "x_poly = poly_features.fit_transform(x)\n",
        "\n",
        "model = LinearRegression()\n",
        "model.fit(x_poly, y)"
      ],
      "execution_count": 327,
      "outputs": [
        {
          "output_type": "execute_result",
          "data": {
            "text/plain": [
              "LinearRegression()"
            ]
          },
          "metadata": {},
          "execution_count": 327
        }
      ]
    },
    {
      "cell_type": "code",
      "metadata": {
        "colab": {
          "base_uri": "https://localhost:8080/",
          "height": 276
        },
        "id": "PsJz6K-tQXqm",
        "outputId": "be540e4f-2bca-477a-c4e3-9799091f8e7c"
      },
      "source": [
        "y_poly_pred = model.predict(x_poly)\n",
        "\n",
        "sns.set_style('darkgrid')\n",
        "plt.rcParams['figure.figsize'] = 6,4  \n",
        "\n",
        "plt.scatter(x, y, color='b',s=12) \n",
        "plt.plot(x, y_poly_pred, linewidth='2', color='r') \n",
        "plt.ylabel('GDP')\n",
        "\n",
        "plt.show()"
      ],
      "execution_count": 328,
      "outputs": [
        {
          "output_type": "display_data",
          "data": {
            "image/png": "[encoded data removed]",
            "text/plain": [
              "<Figure size 432x288 with 1 Axes>"
            ]
          },
          "metadata": {}
        }
      ]
    },
    {
      "cell_type": "markdown",
      "metadata": {
        "id": "ijYf_hDhXmhn"
      },
      "source": [
        "score"
      ]
    },
    {
      "cell_type": "code",
      "metadata": {
        "colab": {
          "base_uri": "https://localhost:8080/"
        },
        "id": "jr7s9B-6XnnM",
        "outputId": "91bea5ab-94ed-4cdd-f648-70fef86a86e8"
      },
      "source": [
        "from sklearn.metrics import mean_squared_error, mean_absolute_error, r2_score\n",
        "import numpy as np\n",
        "\n",
        "print('R2 = {:.5f} '.format(model.score(x_poly, y)))\n",
        "print('R2 = {:.5f} '.format(r2_score(y, y_poly_pred)))\n",
        "\n",
        "print('MSE = {:.4e} '.format(mean_squared_error(y, y_poly_pred)))\n",
        "print('RMSE = {:.4e} '.format(np.sqrt(mean_squared_error(y,  y_poly_pred))))"
      ],
      "execution_count": 329,
      "outputs": [
        {
          "output_type": "stream",
          "name": "stdout",
          "text": [
            "R2 = 0.96689 \n",
            "R2 = 0.96689 \n",
            "MSE = 5.9633e+20 \n",
            "RMSE = 2.4420e+10 \n"
          ]
        }
      ]
    },
    {
      "cell_type": "code",
      "metadata": {
        "colab": {
          "base_uri": "https://localhost:8080/"
        },
        "id": "u94vPm5AYzhL",
        "outputId": "fd630b78-b8a5-4984-d5fa-59b5852d3d67"
      },
      "source": [
        "x_input = [[2000],[2015]]\n",
        "y_poly_pred = model.predict(poly_features.fit_transform(x_input))\n",
        "y_poly_pred\n",
        "\n",
        "for val in y_poly_pred:\n",
        "    print('{:.4e}'.format(val))\n",
        "print('in dataset')\n",
        "print((df[df.index == 2015].THA))\n"
      ],
      "execution_count": 330,
      "outputs": [
        {
          "output_type": "stream",
          "name": "stdout",
          "text": [
            "1.6095e+11\n",
            "4.1842e+11\n",
            "in dataset\n",
            "2015    4.013990e+11\n",
            "Name: THA, dtype: float64\n"
          ]
        }
      ]
    }
  ]
}